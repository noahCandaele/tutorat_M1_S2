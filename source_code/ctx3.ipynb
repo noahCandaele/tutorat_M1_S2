{
 "cells": [
  {
   "cell_type": "code",
   "execution_count": 198,
   "metadata": {},
   "outputs": [],
   "source": [
    "import pandas as pd\n",
    "import string\n",
    "from nltk.tokenize import sent_tokenize, word_tokenize\n",
    "import numpy as np\n",
    "import re"
   ]
  },
  {
   "cell_type": "code",
   "execution_count": 199,
   "metadata": {},
   "outputs": [],
   "source": [
    "test_components_data = pd.read_csv('./data/test_components.csv')\n",
    "train_components_data = pd.read_csv('./data/train_components.csv')\n",
    "validation_components_data = pd.read_csv('./data/validation_components.csv')"
   ]
  },
  {
   "cell_type": "code",
   "execution_count": 200,
   "metadata": {},
   "outputs": [],
   "source": [
    "test_speeches_data = pd.read_csv('./data/test_speeches.csv')\n",
    "train_speeches_data = pd.read_csv('./data/train_speeches.csv')\n",
    "validation_speeches_data = pd.read_csv('./data/validation_speeches.csv')"
   ]
  },
  {
   "cell_type": "code",
   "execution_count": 201,
   "metadata": {},
   "outputs": [],
   "source": [
    "# open relation graph\n",
    "relation_graph = pd.read_csv('./data/relation_graph.csv')"
   ]
  },
  {
   "cell_type": "code",
   "execution_count": 202,
   "metadata": {},
   "outputs": [
    {
     "data": {
      "text/html": [
       "<div>\n",
       "<style scoped>\n",
       "    .dataframe tbody tr th:only-of-type {\n",
       "        vertical-align: middle;\n",
       "    }\n",
       "\n",
       "    .dataframe tbody tr th {\n",
       "        vertical-align: top;\n",
       "    }\n",
       "\n",
       "    .dataframe thead th {\n",
       "        text-align: right;\n",
       "    }\n",
       "</style>\n",
       "<table border=\"1\" class=\"dataframe\">\n",
       "  <thead>\n",
       "    <tr style=\"text-align: right;\">\n",
       "      <th></th>\n",
       "      <th>year</th>\n",
       "      <th>date</th>\n",
       "      <th>sectionID</th>\n",
       "      <th>rel_label</th>\n",
       "      <th>C_out</th>\n",
       "      <th>C_in</th>\n",
       "      <th>Speaker1</th>\n",
       "      <th>Speaker2</th>\n",
       "      <th>Comp1</th>\n",
       "      <th>Comp2</th>\n",
       "      <th>ID_x</th>\n",
       "      <th>text_out</th>\n",
       "      <th>ID_y</th>\n",
       "      <th>text_in</th>\n",
       "    </tr>\n",
       "  </thead>\n",
       "  <tbody>\n",
       "    <tr>\n",
       "      <th>0</th>\n",
       "      <td>1960</td>\n",
       "      <td>07Oct</td>\n",
       "      <td>1</td>\n",
       "      <td>Support</td>\n",
       "      <td>T11</td>\n",
       "      <td>T13</td>\n",
       "      <td>NIXON</td>\n",
       "      <td>NIXON</td>\n",
       "      <td>Claim</td>\n",
       "      <td>Claim</td>\n",
       "      <td>T11</td>\n",
       "      <td>For me to have made such a statement would bee...</td>\n",
       "      <td>T13</td>\n",
       "      <td>As a matter of fact in his book, The Strategy ...</td>\n",
       "    </tr>\n",
       "    <tr>\n",
       "      <th>1</th>\n",
       "      <td>1960</td>\n",
       "      <td>07Oct</td>\n",
       "      <td>1</td>\n",
       "      <td>Support</td>\n",
       "      <td>T13</td>\n",
       "      <td>T12</td>\n",
       "      <td>NIXON</td>\n",
       "      <td>NIXON</td>\n",
       "      <td>Claim</td>\n",
       "      <td>Claim</td>\n",
       "      <td>T13</td>\n",
       "      <td>As a matter of fact in his book, The Strategy ...</td>\n",
       "      <td>T12</td>\n",
       "      <td>Now I'm very surprised that Senator Kennedy, w...</td>\n",
       "    </tr>\n",
       "    <tr>\n",
       "      <th>2</th>\n",
       "      <td>1960</td>\n",
       "      <td>07Oct</td>\n",
       "      <td>1</td>\n",
       "      <td>Support</td>\n",
       "      <td>T15</td>\n",
       "      <td>T12</td>\n",
       "      <td>NIXON</td>\n",
       "      <td>NIXON</td>\n",
       "      <td>Premise</td>\n",
       "      <td>Claim</td>\n",
       "      <td>T15</td>\n",
       "      <td>Senator Kennedy also indicated with regard to ...</td>\n",
       "      <td>T12</td>\n",
       "      <td>Now I'm very surprised that Senator Kennedy, w...</td>\n",
       "    </tr>\n",
       "    <tr>\n",
       "      <th>3</th>\n",
       "      <td>1960</td>\n",
       "      <td>07Oct</td>\n",
       "      <td>1</td>\n",
       "      <td>Support</td>\n",
       "      <td>T14</td>\n",
       "      <td>T2</td>\n",
       "      <td>NIXON</td>\n",
       "      <td>NIXON</td>\n",
       "      <td>Claim</td>\n",
       "      <td>Claim</td>\n",
       "      <td>T14</td>\n",
       "      <td>We think that's pretty good progress</td>\n",
       "      <td>T2</td>\n",
       "      <td>I look at Cuba today, I believe that we are fo...</td>\n",
       "    </tr>\n",
       "    <tr>\n",
       "      <th>4</th>\n",
       "      <td>1960</td>\n",
       "      <td>07Oct</td>\n",
       "      <td>1</td>\n",
       "      <td>Attack</td>\n",
       "      <td>T3</td>\n",
       "      <td>T2</td>\n",
       "      <td>NIXON</td>\n",
       "      <td>NIXON</td>\n",
       "      <td>Premise</td>\n",
       "      <td>Claim</td>\n",
       "      <td>T3</td>\n",
       "      <td>a course which is difficult</td>\n",
       "      <td>T2</td>\n",
       "      <td>I look at Cuba today, I believe that we are fo...</td>\n",
       "    </tr>\n",
       "  </tbody>\n",
       "</table>\n",
       "</div>"
      ],
      "text/plain": [
       "   year   date sectionID rel_label C_out C_in Speaker1 Speaker2    Comp1  \\\n",
       "0  1960  07Oct         1   Support   T11  T13    NIXON    NIXON    Claim   \n",
       "1  1960  07Oct         1   Support   T13  T12    NIXON    NIXON    Claim   \n",
       "2  1960  07Oct         1   Support   T15  T12    NIXON    NIXON  Premise   \n",
       "3  1960  07Oct         1   Support   T14   T2    NIXON    NIXON    Claim   \n",
       "4  1960  07Oct         1    Attack    T3   T2    NIXON    NIXON  Premise   \n",
       "\n",
       "   Comp2 ID_x                                           text_out ID_y  \\\n",
       "0  Claim  T11  For me to have made such a statement would bee...  T13   \n",
       "1  Claim  T13  As a matter of fact in his book, The Strategy ...  T12   \n",
       "2  Claim  T15  Senator Kennedy also indicated with regard to ...  T12   \n",
       "3  Claim  T14               We think that's pretty good progress   T2   \n",
       "4  Claim   T3                        a course which is difficult   T2   \n",
       "\n",
       "                                             text_in  \n",
       "0  As a matter of fact in his book, The Strategy ...  \n",
       "1  Now I'm very surprised that Senator Kennedy, w...  \n",
       "2  Now I'm very surprised that Senator Kennedy, w...  \n",
       "3  I look at Cuba today, I believe that we are fo...  \n",
       "4  I look at Cuba today, I believe that we are fo...  "
      ]
     },
     "execution_count": 202,
     "metadata": {},
     "output_type": "execute_result"
    }
   ],
   "source": [
    "relation_graph.head()"
   ]
  },
  {
   "cell_type": "code",
   "execution_count": 203,
   "metadata": {},
   "outputs": [
    {
     "data": {
      "text/plain": [
       "25595"
      ]
     },
     "execution_count": 203,
     "metadata": {},
     "output_type": "execute_result"
    }
   ],
   "source": [
    "len(relation_graph)"
   ]
  },
  {
   "cell_type": "code",
   "execution_count": 204,
   "metadata": {},
   "outputs": [
    {
     "data": {
      "text/plain": [
       "year                                                      1960\n",
       "date                                                     07Oct\n",
       "sectionID                                                    1\n",
       "rel_label                                              Support\n",
       "C_out                                                      T11\n",
       "C_in                                                       T13\n",
       "Speaker1                                                 NIXON\n",
       "Speaker2                                                 NIXON\n",
       "Comp1                                                    Claim\n",
       "Comp2                                                    Claim\n",
       "ID_x                                                       T11\n",
       "text_out     For me to have made such a statement would bee...\n",
       "ID_y                                                       T13\n",
       "text_in      As a matter of fact in his book, The Strategy ...\n",
       "Name: 0, dtype: object"
      ]
     },
     "execution_count": 204,
     "metadata": {},
     "output_type": "execute_result"
    }
   ],
   "source": [
    "# print le premier element de la relation graph\n",
    "relation_graph.iloc[0]"
   ]
  },
  {
   "cell_type": "code",
   "execution_count": 205,
   "metadata": {},
   "outputs": [
    {
     "name": "stdout",
     "output_type": "stream",
     "text": [
      "Empty DataFrame\n",
      "Columns: [year, date, sectionID, rel_label, C_out, C_in, Speaker1, Speaker2, Comp1, Comp2, ID_x, text_out, ID_y, text_in]\n",
      "Index: []\n",
      "Empty DataFrame\n",
      "Columns: [year, date, sectionID, rel_label, C_out, C_in, Speaker1, Speaker2, Comp1, Comp2, ID_x, text_out, ID_y, text_in]\n",
      "Index: []\n"
     ]
    }
   ],
   "source": [
    "# print line when C_out is not egual to ID_x\n",
    "print(relation_graph[relation_graph['C_out'] != relation_graph['ID_x']])\n",
    "# same for C_in and ID_y\n",
    "print(relation_graph[relation_graph['C_in'] != relation_graph['ID_y']])\n",
    "# où est l'intérêt d'avoir des informations redondantes ?\n",
    "# d'ailleur, serait il intérressant d'avoir l'id du speech ? Car pour l'instant nous n'avons que l'ID du component\n",
    "# certains speechs contiennent des retours à la ligne tel que \\n ou \\r, est ce que cela peut être un problème ?"
   ]
  },
  {
   "cell_type": "code",
   "execution_count": 206,
   "metadata": {},
   "outputs": [
    {
     "data": {
      "text/html": [
       "<div>\n",
       "<style scoped>\n",
       "    .dataframe tbody tr th:only-of-type {\n",
       "        vertical-align: middle;\n",
       "    }\n",
       "\n",
       "    .dataframe tbody tr th {\n",
       "        vertical-align: top;\n",
       "    }\n",
       "\n",
       "    .dataframe thead th {\n",
       "        text-align: right;\n",
       "    }\n",
       "</style>\n",
       "<table border=\"1\" class=\"dataframe\">\n",
       "  <thead>\n",
       "    <tr style=\"text-align: right;\">\n",
       "      <th></th>\n",
       "      <th>year</th>\n",
       "      <th>date</th>\n",
       "      <th>sectionID</th>\n",
       "      <th>rel_label</th>\n",
       "      <th>C_out</th>\n",
       "      <th>C_in</th>\n",
       "      <th>Speaker1</th>\n",
       "      <th>Speaker2</th>\n",
       "      <th>Comp1</th>\n",
       "      <th>Comp2</th>\n",
       "      <th>text_out</th>\n",
       "      <th>text_in</th>\n",
       "    </tr>\n",
       "  </thead>\n",
       "  <tbody>\n",
       "    <tr>\n",
       "      <th>0</th>\n",
       "      <td>1960</td>\n",
       "      <td>07Oct</td>\n",
       "      <td>1</td>\n",
       "      <td>Support</td>\n",
       "      <td>T11</td>\n",
       "      <td>T13</td>\n",
       "      <td>NIXON</td>\n",
       "      <td>NIXON</td>\n",
       "      <td>Claim</td>\n",
       "      <td>Claim</td>\n",
       "      <td>For me to have made such a statement would bee...</td>\n",
       "      <td>As a matter of fact in his book, The Strategy ...</td>\n",
       "    </tr>\n",
       "    <tr>\n",
       "      <th>1</th>\n",
       "      <td>1960</td>\n",
       "      <td>07Oct</td>\n",
       "      <td>1</td>\n",
       "      <td>Support</td>\n",
       "      <td>T13</td>\n",
       "      <td>T12</td>\n",
       "      <td>NIXON</td>\n",
       "      <td>NIXON</td>\n",
       "      <td>Claim</td>\n",
       "      <td>Claim</td>\n",
       "      <td>As a matter of fact in his book, The Strategy ...</td>\n",
       "      <td>Now I'm very surprised that Senator Kennedy, w...</td>\n",
       "    </tr>\n",
       "    <tr>\n",
       "      <th>2</th>\n",
       "      <td>1960</td>\n",
       "      <td>07Oct</td>\n",
       "      <td>1</td>\n",
       "      <td>Support</td>\n",
       "      <td>T15</td>\n",
       "      <td>T12</td>\n",
       "      <td>NIXON</td>\n",
       "      <td>NIXON</td>\n",
       "      <td>Premise</td>\n",
       "      <td>Claim</td>\n",
       "      <td>Senator Kennedy also indicated with regard to ...</td>\n",
       "      <td>Now I'm very surprised that Senator Kennedy, w...</td>\n",
       "    </tr>\n",
       "    <tr>\n",
       "      <th>3</th>\n",
       "      <td>1960</td>\n",
       "      <td>07Oct</td>\n",
       "      <td>1</td>\n",
       "      <td>Support</td>\n",
       "      <td>T14</td>\n",
       "      <td>T2</td>\n",
       "      <td>NIXON</td>\n",
       "      <td>NIXON</td>\n",
       "      <td>Claim</td>\n",
       "      <td>Claim</td>\n",
       "      <td>We think that's pretty good progress</td>\n",
       "      <td>I look at Cuba today, I believe that we are fo...</td>\n",
       "    </tr>\n",
       "    <tr>\n",
       "      <th>4</th>\n",
       "      <td>1960</td>\n",
       "      <td>07Oct</td>\n",
       "      <td>1</td>\n",
       "      <td>Attack</td>\n",
       "      <td>T3</td>\n",
       "      <td>T2</td>\n",
       "      <td>NIXON</td>\n",
       "      <td>NIXON</td>\n",
       "      <td>Premise</td>\n",
       "      <td>Claim</td>\n",
       "      <td>a course which is difficult</td>\n",
       "      <td>I look at Cuba today, I believe that we are fo...</td>\n",
       "    </tr>\n",
       "  </tbody>\n",
       "</table>\n",
       "</div>"
      ],
      "text/plain": [
       "   year   date sectionID rel_label C_out C_in Speaker1 Speaker2    Comp1  \\\n",
       "0  1960  07Oct         1   Support   T11  T13    NIXON    NIXON    Claim   \n",
       "1  1960  07Oct         1   Support   T13  T12    NIXON    NIXON    Claim   \n",
       "2  1960  07Oct         1   Support   T15  T12    NIXON    NIXON  Premise   \n",
       "3  1960  07Oct         1   Support   T14   T2    NIXON    NIXON    Claim   \n",
       "4  1960  07Oct         1    Attack    T3   T2    NIXON    NIXON  Premise   \n",
       "\n",
       "   Comp2                                           text_out  \\\n",
       "0  Claim  For me to have made such a statement would bee...   \n",
       "1  Claim  As a matter of fact in his book, The Strategy ...   \n",
       "2  Claim  Senator Kennedy also indicated with regard to ...   \n",
       "3  Claim               We think that's pretty good progress   \n",
       "4  Claim                        a course which is difficult   \n",
       "\n",
       "                                             text_in  \n",
       "0  As a matter of fact in his book, The Strategy ...  \n",
       "1  Now I'm very surprised that Senator Kennedy, w...  \n",
       "2  Now I'm very surprised that Senator Kennedy, w...  \n",
       "3  I look at Cuba today, I believe that we are fo...  \n",
       "4  I look at Cuba today, I believe that we are fo...  "
      ]
     },
     "execution_count": 206,
     "metadata": {},
     "output_type": "execute_result"
    }
   ],
   "source": [
    "# Etant donné que les colonnes C_out et C_in sont redondantes avec ID_x et ID_y, on peut les supprimer (afin de ne pas avoir de confusion, peuvent être remis au besoin)\n",
    "relation_graph.drop(['ID_x', 'ID_y'], axis=1, inplace=True)\n",
    "relation_graph.head()"
   ]
  },
  {
   "cell_type": "code",
   "execution_count": 207,
   "metadata": {},
   "outputs": [
    {
     "name": "stdout",
     "output_type": "stream",
     "text": [
      "7103\n",
      "6198\n"
     ]
    }
   ],
   "source": [
    "# rassembler tous les speeches dans un seul dataframe\n",
    "speeches_dataframe = pd.concat([train_speeches_data, validation_speeches_data, test_speeches_data])\n",
    "print(len(speeches_dataframe))\n",
    "# enelever les doublons sur le Speaker, la SectionID et le SpeechID\n",
    "speeches_dataframe.drop_duplicates(subset=['Speaker', 'SectionID', 'SpeechID'], inplace=True)\n",
    "print(len(speeches_dataframe))"
   ]
  },
  {
   "cell_type": "code",
   "execution_count": 208,
   "metadata": {},
   "outputs": [
    {
     "name": "stdout",
     "output_type": "stream",
     "text": [
      "    Year   Date Speaker SectionID  SpeechID  \\\n",
      "42  1960  07Oct   NIXON         1         2   \n",
      "\n",
      "                                               Speech  Start   End  \n",
      "42   Well first of all, I don't agree with Senator...   2122  4424  \n",
      "    Year   Date Speaker SectionID  SpeechID  \\\n",
      "42  1960  07Oct   NIXON         1         2   \n",
      "\n",
      "                                               Speech  Start   End  \n",
      "42   Well first of all, I don't agree with Senator...   2122  4424  \n"
     ]
    }
   ],
   "source": [
    "# prendre la ligne 1 pour exemple\n",
    "line1 = relation_graph.iloc[1]\n",
    "# retrouver le speech contenant le text_out\n",
    "text_out_speech = speeches_dataframe[speeches_dataframe['Speech'].str.contains(line1['text_out'])]\n",
    "print(text_out_speech)\n",
    "#retouver le speech contenant le text_in\n",
    "text_in_speech = speeches_dataframe[speeches_dataframe['Speech'].str.contains(line1['text_in'])]\n",
    "print(text_in_speech)"
   ]
  },
  {
   "cell_type": "code",
   "execution_count": 209,
   "metadata": {},
   "outputs": [
    {
     "data": {
      "text/html": [
       "<div>\n",
       "<style scoped>\n",
       "    .dataframe tbody tr th:only-of-type {\n",
       "        vertical-align: middle;\n",
       "    }\n",
       "\n",
       "    .dataframe tbody tr th {\n",
       "        vertical-align: top;\n",
       "    }\n",
       "\n",
       "    .dataframe thead th {\n",
       "        text-align: right;\n",
       "    }\n",
       "</style>\n",
       "<table border=\"1\" class=\"dataframe\">\n",
       "  <thead>\n",
       "    <tr style=\"text-align: right;\">\n",
       "      <th></th>\n",
       "      <th>Year</th>\n",
       "      <th>Date</th>\n",
       "      <th>Speaker</th>\n",
       "      <th>SectionID</th>\n",
       "      <th>SpeechID</th>\n",
       "      <th>Speech</th>\n",
       "      <th>Start</th>\n",
       "      <th>End</th>\n",
       "    </tr>\n",
       "  </thead>\n",
       "  <tbody>\n",
       "    <tr>\n",
       "      <th>0</th>\n",
       "      <td>1960</td>\n",
       "      <td>13Oct</td>\n",
       "      <td>SHADEL</td>\n",
       "      <td>6</td>\n",
       "      <td>0</td>\n",
       "      <td>Mr. Cater's question is for Vice President Ni...</td>\n",
       "      <td>0</td>\n",
       "      <td>59</td>\n",
       "    </tr>\n",
       "    <tr>\n",
       "      <th>1</th>\n",
       "      <td>1960</td>\n",
       "      <td>13Oct</td>\n",
       "      <td>CATER</td>\n",
       "      <td>6</td>\n",
       "      <td>1</td>\n",
       "      <td>Mr. Vice President, I'd like to return just o...</td>\n",
       "      <td>59</td>\n",
       "      <td>910</td>\n",
       "    </tr>\n",
       "    <tr>\n",
       "      <th>2</th>\n",
       "      <td>1960</td>\n",
       "      <td>13Oct</td>\n",
       "      <td>NIXON</td>\n",
       "      <td>6</td>\n",
       "      <td>2</td>\n",
       "      <td>Well, Mr. Cater, of course it's a criticism t...</td>\n",
       "      <td>910</td>\n",
       "      <td>3441</td>\n",
       "    </tr>\n",
       "    <tr>\n",
       "      <th>3</th>\n",
       "      <td>1960</td>\n",
       "      <td>13Oct</td>\n",
       "      <td>SHADEL</td>\n",
       "      <td>6</td>\n",
       "      <td>3</td>\n",
       "      <td>Senator Kennedy? \\r\\n</td>\n",
       "      <td>3441</td>\n",
       "      <td>3467</td>\n",
       "    </tr>\n",
       "    <tr>\n",
       "      <th>4</th>\n",
       "      <td>1960</td>\n",
       "      <td>13Oct</td>\n",
       "      <td>KENNEDY</td>\n",
       "      <td>6</td>\n",
       "      <td>4</td>\n",
       "      <td>Well number one on Indochina, Mr. Nixon talke...</td>\n",
       "      <td>3467</td>\n",
       "      <td>5388</td>\n",
       "    </tr>\n",
       "  </tbody>\n",
       "</table>\n",
       "</div>"
      ],
      "text/plain": [
       "   Year   Date  Speaker  SectionID  SpeechID  \\\n",
       "0  1960  13Oct   SHADEL          6         0   \n",
       "1  1960  13Oct    CATER          6         1   \n",
       "2  1960  13Oct    NIXON          6         2   \n",
       "3  1960  13Oct   SHADEL          6         3   \n",
       "4  1960  13Oct  KENNEDY          6         4   \n",
       "\n",
       "                                              Speech  Start   End  \n",
       "0   Mr. Cater's question is for Vice President Ni...      0    59  \n",
       "1   Mr. Vice President, I'd like to return just o...     59   910  \n",
       "2   Well, Mr. Cater, of course it's a criticism t...    910  3441  \n",
       "3                              Senator Kennedy? \\r\\n   3441  3467  \n",
       "4   Well number one on Indochina, Mr. Nixon talke...   3467  5388  "
      ]
     },
     "execution_count": 209,
     "metadata": {},
     "output_type": "execute_result"
    }
   ],
   "source": [
    "validation_speeches_data.head()"
   ]
  },
  {
   "cell_type": "code",
   "execution_count": 210,
   "metadata": {},
   "outputs": [],
   "source": [
    "# faire une colonne context3 dans le dataframe relation_graph\n",
    "relation_graph['context3'] = ''"
   ]
  },
  {
   "cell_type": "code",
   "execution_count": 211,
   "metadata": {},
   "outputs": [],
   "source": [
    "# pour chaque ligne de la relation graph\n",
    "not_found = []\n",
    "for index, row in relation_graph.iterrows():\n",
    "    # surrond with try except\n",
    "    try:\n",
    "        # retrouver le speech contenant le text_out\n",
    "        text_out_speech = speeches_dataframe[speeches_dataframe['Speech'].str.contains(row['text_out'], regex=False)]\n",
    "        # retouver le speech contenant le text_in\n",
    "        text_in_speech = speeches_dataframe[speeches_dataframe['Speech'].str.contains(row['text_in'], regex=False)]\n",
    "        # verifier que les deux speeches ont bien été trouvé\n",
    "        if len(text_out_speech) > 0 and len(text_in_speech) > 0:\n",
    "            # TODO: retrouver le contexte 3\n",
    "            pass\n",
    "        else:\n",
    "            \n",
    "            # insert l'index de la ligne dans la liste not_found\n",
    "            not_found.append(index)\n",
    "    except Exception as e:\n",
    "        print(index)\n",
    "        not_found.append(index)\n",
    "        continue"
   ]
  },
  {
   "cell_type": "code",
   "execution_count": 212,
   "metadata": {},
   "outputs": [
    {
     "data": {
      "text/plain": [
       "'The farmers were the victims of the double-digit inflation and the 21\\x01/2\\\\-percent interest rates of the Carter-Mondale administration and the grain embargo'"
      ]
     },
     "execution_count": 212,
     "metadata": {},
     "output_type": "execute_result"
    }
   ],
   "source": [
    "# id 1766 et 1767 ??\n",
    "\"The farmers were the victims of the double-digit inflation and the 21\\1/2\\-percent interest rates of the Carter-Mondale administration and the grain embargo\"\n",
    "# why back slash ? "
   ]
  },
  {
   "cell_type": "code",
   "execution_count": 213,
   "metadata": {},
   "outputs": [
    {
     "name": "stdout",
     "output_type": "stream",
     "text": [
      "3790\n",
      "56\n"
     ]
    }
   ],
   "source": [
    "print(len(not_found))\n",
    "# print le premier element de la liste not_found\n",
    "print(not_found[0])\n",
    "# 5649"
   ]
  },
  {
   "cell_type": "code",
   "execution_count": 214,
   "metadata": {},
   "outputs": [
    {
     "name": "stdout",
     "output_type": "stream",
     "text": [
      "year                                                      1984\n",
      "date                                                     07Oct\n",
      "sectionID                                                    4\n",
      "rel_label                                              Support\n",
      "C_out                                                     T120\n",
      "C_in                                                      T118\n",
      "Speaker1                                                REAGAN\n",
      "Speaker2                                                REAGAN\n",
      "Comp1                                                  Premise\n",
      "Comp2                                                    Claim\n",
      "text_out     The farmers were the victims of the double-dig...\n",
      "text_in      The farmers are not the victims of anything th...\n",
      "context3                                                      \n",
      "Name: 1766, dtype: object\n"
     ]
    }
   ],
   "source": [
    "# reprenons l'exmple de l'ID 1766\n",
    "line1766 = relation_graph.iloc[1766]\n",
    "print(line1766)"
   ]
  },
  {
   "cell_type": "code",
   "execution_count": 215,
   "metadata": {},
   "outputs": [
    {
     "name": "stdout",
     "output_type": "stream",
     "text": [
      "Empty DataFrame\n",
      "Columns: [Year, Date, Speaker, SectionID, SpeechID, Speech, Start, End]\n",
      "Index: []\n",
      "     Year   Date Speaker SectionID  SpeechID  \\\n",
      "415  1984  07Oct  REAGAN         4        12   \n",
      "\n",
      "                                                Speech  Start    End  \n",
      "415   Before I campaigned as a Democrat for a Repub...   9306  10333  \n"
     ]
    }
   ],
   "source": [
    "# retrouver le speech contenant le text \"The farmers were the victims of the double-digit inflation and the\"\n",
    "text_out_speech = speeches_dataframe[speeches_dataframe['Speech'].str.match(\"The farmers were the victims of the double-digit inflation and the\")]\n",
    "print(text_out_speech)\n",
    "\n",
    "# recupérer tous les speeches du speacker \"REAGAN\" dont la date est le 07Oct et dont le speech contient \"farmers\"\n",
    "text_in_speech = speeches_dataframe[(speeches_dataframe['Speaker'] == 'REAGAN') & (speeches_dataframe['Date'] == '07Oct') & (speeches_dataframe['Speech'].str.contains(\"farmers\"))]\n",
    "print(text_in_speech)"
   ]
  },
  {
   "cell_type": "code",
   "execution_count": 216,
   "metadata": {},
   "outputs": [],
   "source": [
    "# Comme dans les components pour nos context 1 et 2, nous avons certains cas où une partie du text est manquante, nous empechant donc de retrouver l'élément avec un simple str.contians\n",
    "# ceci dit nous pouvons faire une methode semblable à celle que nous avons utilisé pour les components\n",
    "# CAD: prendre n premiers mots verifier qu'ils sont présent dans notre speech puis prendre les n+1 mots qui suivent et verifier qu'ils font aussi partie du speech"
   ]
  },
  {
   "cell_type": "code",
   "execution_count": 217,
   "metadata": {},
   "outputs": [
    {
     "name": "stdout",
     "output_type": "stream",
     "text": [
      "0\n"
     ]
    }
   ],
   "source": [
    "# technique que nous allons implémenter pour le context 3\n",
    "# pour chaque élément de la liste not_found\n",
    "ctx3_not_found = []\n",
    "for index in not_found:\n",
    "    # recuperer la ligne correspondante\n",
    "    line = relation_graph.iloc[index]\n",
    "\n",
    "    text_out_speech = speeches_dataframe[speeches_dataframe['Speech'].str.contains(row['text_out'], regex=False)]\n",
    "    text_in_speech = speeches_dataframe[speeches_dataframe['Speech'].str.contains(row['text_in'], regex=False)]\n",
    "    \n",
    "    # vefrifier à l'aide de la taille de la liste s'il est nécessaire de faire le traitement\n",
    "    if len(text_out_speech) == 0 :\n",
    "        # si le text_out n'est pas trouvé alors nous devons faire un traitement plus poussé\n",
    "        text_out = line['text_out'].split()\n",
    "        n = 0\n",
    "        founded = []\n",
    "        for n in range(1, len(text_out)):\n",
    "            # concat les n premiers mots du component\n",
    "            start_component = \" \".join(text_out[0:n])\n",
    "            end_component = \" \".join(text_out[n:])\n",
    "            # trouver les speeches qui contiennent le start_component\n",
    "            speeches_intermed = speeches_dataframe[speeches_dataframe['Speech'].str.find(start_component) != -1]\n",
    "            speeches_intermed = speeches_intermed[speeches_intermed['Speech'].str.find(end_component) != -1]\n",
    "            if(len(speeches_intermed) > 0):\n",
    "                # append each speech that contains the component\n",
    "                founded.append(speeches_intermed)\n",
    "                \n",
    "        if len(founded > 1):\n",
    "            # on a un problème car on a trouvéla relation dans plusieurs speeches\n",
    "            print(\"multiple speeches found \", index)\n",
    "        elif len(founded == 1):\n",
    "            # on a trouvé le speech qui nous interesse\n",
    "            pass\n",
    "        else:\n",
    "            # on ne l'a toujours pas trouvé, dommage\n",
    "            ctx3_not_found.append(index)\n",
    "\n",
    "print(len(ctx3_not_found))\n"
   ]
  }
 ],
 "metadata": {
  "kernelspec": {
   "display_name": "Python 3",
   "language": "python",
   "name": "python3"
  },
  "language_info": {
   "codemirror_mode": {
    "name": "ipython",
    "version": 3
   },
   "file_extension": ".py",
   "mimetype": "text/x-python",
   "name": "python",
   "nbconvert_exporter": "python",
   "pygments_lexer": "ipython3",
   "version": "3.9.2"
  },
  "orig_nbformat": 4
 },
 "nbformat": 4,
 "nbformat_minor": 2
}
