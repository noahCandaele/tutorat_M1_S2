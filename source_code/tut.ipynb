{
 "cells": [
  {
   "attachments": {},
   "cell_type": "markdown",
   "metadata": {},
   "source": [
    "# Tutorat M1 S2 Informatique DS4H\n",
    "\n",
    "### Subject:\n",
    "\n",
    "#### Re-structuration intelligente d'un jeu de donnée de debats politiques pour l'extraction de structures argumentaires\n",
    "\n",
    "L'objectif du travail à réaliser est de structurer des données nécessaires à l'étude des composantes et des relations au sein des débats politiques qui ont eu lieu lors des élections du président des États-Unis de 1960 à 2016. Les débats se présentent sous la forme d'un dialogue entre un candidat et l'autre, qui répondent aux questions posées par un orateur sur divers sujets tels que l'économie, la sécurité, l'éducation, la guerre, les soins de santé, etc. Chaque débat a été divisé en sections en tenant compte des différents sujets abordés.\n",
    "\n",
    "Tous les débats ont été annotés d'un point de vue argumentatif. Des annotations concernant les composantes argumentatives sont présentes à l'intérieur :\n",
    "- Conclusions\n",
    "- Prémisses\n",
    "et des annotations faisant référence aux relations entre ces deux composants :\n",
    "- Attaque\n",
    "- Soutien\n",
    "- Équivalent\n",
    "\n",
    "L'objectif du projet est de concevoir et implémenter une structure de données textuels qui soit facile à manipuler pour la réalisation d'une des nombreuses tâches du TAL, à savoir l'extraction d'arguments.\n",
    "Plus précisément, il s’agit de deux structures :\n",
    "1) Un jeu de données référençant les composants (Claim, Premise) représentés par les colonnes suivantes :\n",
    "- Ligne de dialogue\n",
    "- Composants de l'argumentation\n",
    "- Schéma BIO des composants\n",
    "- Caractéristiques linguistiques, lexicales, grammaticales, syntaxiques, etc... (Chaque caractéristique séparée par une colonne) concernant le composant considéré\n",
    "2) Un ensemble de données se référant aux relations (Attaque, Soutien, Équivalent) regroupées par section et représentées par les colonnes suivantes :\n",
    "- Composante 1 (Claim/Premise)\n",
    "- Composante 2 (Claim/Premise)\n",
    "- Type de relation (Attaque/Soutien/Équivalent)\n",
    "- Schéma BIO des composants et des relations avec leur distance\n",
    "- Caractéristiques linguistiques, lexicales, grammaticales, syntaxiques, etc. (chaque caractéristique séparée par une colonne) concernant la relation considérée"
   ]
  },
  {
   "attachments": {},
   "cell_type": "markdown",
   "metadata": {},
   "source": [
    "## Questions\n",
    "* Do we want to remove the Speaker Name from the sentences ? (In the contexte column)\n",
    "* What do we keep from the components csv columns ?\n",
    "* For the context 1, what if there are only 1 sentence in the component ? how can we get the 3 closest sentences ?"
   ]
  },
  {
   "cell_type": "code",
   "execution_count": 150,
   "metadata": {},
   "outputs": [],
   "source": [
    "# import the libraries\n",
    "import pandas as pd\n",
    "from nltk.tokenize import sent_tokenize"
   ]
  },
  {
   "cell_type": "code",
   "execution_count": 151,
   "metadata": {},
   "outputs": [],
   "source": [
    "# open the data file\n",
    "components_data = pd.read_csv('./data/test_components.csv')\n",
    "speeches_data = pd.read_csv('./data/test_speeches.csv')\n",
    "# work with only the first 5 rows\n",
    "# components_data = components_data.head(5)"
   ]
  },
  {
   "cell_type": "code",
   "execution_count": 152,
   "metadata": {},
   "outputs": [],
   "source": [
    "# create new dataframe that copy the components_data but without the \"Previous_Sentence\" and \"Next_Sentence\" columns\n",
    "components_data_context = components_data.drop(['Current_Sentence', 'Previous_Sentence', 'Next_Sentence'], axis=1)\n",
    "# add columns for contexts\n",
    "components_data_context['Context1'] = ''\n",
    "components_data_context['Context2'] = ''"
   ]
  },
  {
   "cell_type": "code",
   "execution_count": 153,
   "metadata": {},
   "outputs": [
    {
     "name": "stdout",
     "output_type": "stream",
     "text": [
      "Component not found in speeches: I believe it my responsibility as the leader of the Democratic party in 1960 to try to warn the American people that in this crucial time we can no longer afford to stand still We can no longer afford to be second best 56\n",
      "Component not found in speeches: Anybody that says America has been standing still for the last seven and a half years hasn't been traveling in America He's been in some other country 75\n",
      "Component not found in speeches: There were eleven dictators when we came into power in 1953 in Latin America There are only three left 94\n",
      "Component not found in speeches: Let's look at Africa Twenty new countries in Africa during the course of this Administration Not one of them selected a Communist government 95\n",
      "Component not found in speeches: the tax program of the Ford administration will bring jobs where people are, and help to revitalize those cities as they can be 603\n",
      "Component not found in speeches: I do make a pledge that in the next ten days when we're asking the American people to make one of the most important decisions in their lifetime that uh - we do together what we can to stimulate voter participation 927\n",
      "Component not found in speeches: I believe that the American people would be willing to give this thrust to preserve the peace and the necessary restraint at home to hold the lid on spending so that we could, I think, have a long overdue and totally justified tax decrease for the middle-income people 935\n",
      "Component not found in speeches: We have gone a long way toward correcting these problems we still have a long way to go 1335\n",
      "Component not found in speeches: In California he had the three largest tax increases in the history of that state under his administration 1410\n",
      "Component not found in speeches: In California he had the three largest tax increases in the history of that state under his administration 1416\n",
      "Component not found in speeches: I believe this responsibility for preserving the peace, which I believe is a responsibility peculiar to our country 1429\n",
      "Component not found in speeches: What I do think should be done, once they are safely here with their families, and that tragedy is over - then, I think, it is time for us to have a complete investigation as to the diplomatic efforts that were made in the beginning, why they have been there so long, and when they came home, what did we have to do in order to bring that about 1525\n",
      "Component not found in speeches: I think the American people and the people of the Soviet Union want it to stop 1709\n",
      "Component not found in speeches: Dr. Bernadine Healy National Institutes of Health 3552\n",
      "Component not found in speeches: keep working with the states, to add 2.2 million more people to the insurance system 4821\n",
      "Component not found in speeches: I think that the environmental benefits that come from sound management of the land ought to represent a new way for farmers to get some income that will enable you to make sensible choices in crop rotation, and when you leave the land fallow and the rest 5416\n",
      "Component not found in speeches: I like the policies that will encourage farmers to set aside land as well for conservation purposes 5434\n",
      "Component not found in speeches: it's now the smallest in size since John Kennedy's administration 5521\n",
      "Component not found in speeches: the agencies need to recruit and to work hard to find people to bid on the state contracts 5537\n",
      "Component not found in speeches: : I think that speaks for itself 5579\n",
      "Component not found in speeches: the agencies need to recruit and to work hard to find people to bid on the state contracts 5583\n",
      "Component not found in speeches: we've heard a lot from the governor about not much being done in the last eight years, as if the promises that I made eight years ago have not been kept 5601\n",
      "Component not found in speeches: Under my plan its solvency will be extended until you're 100 5644\n",
      "Component not found in speeches: If you take a trillion dollars out of that Social Security Trust Fund how are you going to keep faith with the seniors 5650\n",
      "Component not found in speeches: If you are part of the bottom 20% or so of wage earners, then you will get an expanded earned income tax credit 5757\n",
      "Component not found in speeches: We need to allow small businesses to write insurance across jurisdictional lines 5817\n",
      "Component not found in speeches: It's ironic that there is now a smaller percentage of the voters made up of parents with children than ever in American history because of the aging of our population 6118\n",
      "Component not found in speeches: My proposal gives $10,000 hiring bonuses for those teachers who get certified to teach in the areas where they're most needed 6124\n",
      "Component not found in speeches: Under my plan, if you make the wealthy people pay 62% of the taxes today 6188\n",
      "Component not found in speeches: It was due to go bankrupt in 1999 and that 50 million figure again, the newspapers you said forget the journalists, but they are the keepers of the score card 6208\n",
      "Component not found in speeches: We're working with Canada to realize the vaccine necessary to make sure our citizens have got flu vaccinations during this upcoming season 6806\n",
      "Component not found in speeches: What I think is most important is that we recognize that to solve the key problems that we're facing Democrats, independents and Republicans, we're going to have to be able to work together 7325\n",
      "Component not found in speeches: it is true that my friend and supporter, Warren Buffett, for example, could afford to pay a little more in taxes in order -- in order to give additional tax cuts to Joe the plumber before he was at the point where he could make $250,000 7582\n",
      "Component not found in speeches: it is true that my friend and supporter, Warren Buffett, for example, could afford to pay a little more in taxes in order in order to give additional tax cuts to Joe the plumber before he was at the point where he could make $250,000 7590\n",
      "Component not found in speeches: the kinds of budget proposals that you've put forward that's undermining our long-term competitiveness 8316\n",
      "Component not found in speeches: I indicated that you failed to put in place a status of forces agreement at the end of the conflict that existed 8573\n",
      "Component not found in speeches: They asked him, please repair the tension -- Democrat senators -- please repair the tension the damage in his -- in his own party 8827\n",
      "Component not found in speeches: They asked him, please repair the tension -- Democrat senators -- please repair the tension the damage in his -- in his own party 8850\n",
      "Component not found in speeches: if we're not making investments in education and basic research then we will lose the (inaudible) in things like clean energy technology 8932\n",
      "Component not found in speeches: I have never said I would liquidate I would liquidate the industry 8963\n",
      "Component not found in speeches: the private sector's not going to invest in a company if -- if you're get someone else's 8981\n",
      "Component not found in speeches: And if we're not making investments in education and basic research then we will lose the (inaudible) in things like clean energy technology 9026\n",
      "Component not found in speeches: I have never said I would liquidate I would liquidate the industry 9027\n",
      "Component not found in speeches: the private sector's not going to invest in a company if -- if you're get someone else's 9029\n"
     ]
    }
   ],
   "source": [
    "# for each component, find the speeches that mention it\n",
    "for index, row in components_data.iterrows():\n",
    "    textToFind = row.Text\n",
    "    # find the speeches that have the component in the text\n",
    "    speeches = speeches_data[speeches_data['Speech'].str.find(textToFind) != -1]\n",
    "    \n",
    "    # make a try catch block to handle the case where the component is not found in the speeches\n",
    "    try:\n",
    "        # tokenize the speech into sentences\n",
    "        sentences = sent_tokenize(speeches['Speech'].values[0])\n",
    "        \n",
    "        context1 = ''\n",
    "        # get the sentence that contains the component\n",
    "        for index, sentence in zip(range(0,len(sentences)), sentences):\n",
    "            if sentence.find(textToFind) != -1:\n",
    "                if(index > 0):\n",
    "                    context1 = sentences[index-1]\n",
    "                # add the current sentence\n",
    "                context1 = context1 + ' ' + sentence\n",
    "                if(index < len(sentences)-1):\n",
    "                    context1 = context1 + ' ' + sentences[index+1]\n",
    "                break\n",
    "        # add context1\n",
    "        components_data_context.loc[index, 'Context1'] = context1\n",
    "        # add full speech to the context2 column\n",
    "        components_data_context.loc[index, 'Context2'] = speeches['Speech'].values[0]\n",
    "    except:\n",
    "        print('Component not found in speeches: ' + textToFind+ ' ' + str(index))\n",
    "        \n",
    "    "
   ]
  }
 ],
 "metadata": {
  "kernelspec": {
   "display_name": "Python 3",
   "language": "python",
   "name": "python3"
  },
  "language_info": {
   "codemirror_mode": {
    "name": "ipython",
    "version": 3
   },
   "file_extension": ".py",
   "mimetype": "text/x-python",
   "name": "python",
   "nbconvert_exporter": "python",
   "pygments_lexer": "ipython3",
   "version": "3.9.2"
  },
  "orig_nbformat": 4,
  "vscode": {
   "interpreter": {
    "hash": "82ed002fa2d4956f5c6aec99bcefe0f73a9f79882f3c9e2319b14958a5896ac5"
   }
  }
 },
 "nbformat": 4,
 "nbformat_minor": 2
}
